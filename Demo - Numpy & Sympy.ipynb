{
 "cells": [
  {
   "cell_type": "markdown",
   "id": "dd7b0b86-5597-494e-a52f-7ee2320cc197",
   "metadata": {},
   "source": [
    "# Demo Numpy et Sympy\n",
    "\n",
    "Numpy et Sympy peuvent être utilisés ensemble pour résoudre facilement plusieurs problèmes algébriques souvent rencontrer en optique géométrique notamment lors d'utilisation de matrices. Ce notebook en montre quelques exemples."
   ]
  },
  {
   "cell_type": "code",
   "execution_count": 1,
   "id": "e8448887-9f12-4a9c-8b57-a48c0ee0d060",
   "metadata": {},
   "outputs": [],
   "source": [
    "import matplotlib.pyplot as plt\n",
    "import numpy as np\n",
    "import sympy as sp"
   ]
  },
  {
   "cell_type": "markdown",
   "id": "a9a5edf4-717b-48b4-a8a0-653522dd7980",
   "metadata": {},
   "source": [
    "## Numpy - Algèbre linéaire\n",
    "\n",
    "Commençons par couvrir l'utilisation de NumPy pour résoudre des problèmes matriciels. Résolvons le problème très simple\n",
    "\n",
    "$$\n",
    "\\vec{y} = A\\cdot \\vec{x}\n",
    "$$\n",
    "\n",
    "où le vecteur $\\vec{y}$ et la matrice $A$ sont connus et l'on cherche a résoudre pour $\\vec{x}$.\n",
    "\n",
    "Commençons par un exemple trivial\n",
    "\n",
    "$$\n",
    "\\begin{bmatrix}3\\\\2\\end{bmatrix} = \n",
    "\\begin{bmatrix}1&2\\\\3&-1\\end{bmatrix}\\cdot\\begin{bmatrix}1\\\\1\\end{bmatrix}\n",
    "$$"
   ]
  },
  {
   "cell_type": "code",
   "execution_count": 2,
   "id": "e700e85b-fc75-4e6c-b44f-f2f5e1cda385",
   "metadata": {},
   "outputs": [
    {
     "name": "stdout",
     "output_type": "stream",
     "text": [
      "[3 2]\n"
     ]
    }
   ],
   "source": [
    "# Direct Solution (y from A and x)\n",
    "A = np.array([[1, 2], [3, -1]])\n",
    "x = np.array([1, 1])\n",
    "\n",
    "# Numpy dot product (all equivalent notations)\n",
    "y = np.dot(A, x)  # function\n",
    "y = A.dot(x)  # method\n",
    "y = A @ x  # operator (this is my favourite!)\n",
    "print(y)"
   ]
  },
  {
   "cell_type": "markdown",
   "id": "afbc21a9-d25f-4a79-aa96-29818e4eca74",
   "metadata": {},
   "source": [
    "Maintenant, voyons comment inverser l'équation suivante et résoudre $\\vec{x}$\n",
    "\n",
    "$$\n",
    "\\begin{bmatrix}2\\\\3\\end{bmatrix} = \n",
    "\\begin{bmatrix}-1&4\\\\2&1\\end{bmatrix}\\cdot\\vec{x}\n",
    "$$"
   ]
  },
  {
   "cell_type": "code",
   "execution_count": 3,
   "id": "b2fcbb88-8b94-4009-a317-31f87d1911a9",
   "metadata": {},
   "outputs": [
    {
     "name": "stdout",
     "output_type": "stream",
     "text": [
      "[1.11111111 0.77777778]\n",
      "[2. 3.]\n"
     ]
    }
   ],
   "source": [
    "A = np.array([[-1, 4], [2, 1]])\n",
    "y = np.array([2, 3])\n",
    "\n",
    "# We compute the inverse of A\n",
    "A_inverse = np.linalg.inv(A)\n",
    "x = A_inverse @ y\n",
    "print(x)  # Solution\n",
    "\n",
    "# We can also check our answer\n",
    "print(A @ x)"
   ]
  },
  {
   "cell_type": "markdown",
   "id": "1492fb5b-6ec3-4c87-9797-9707a9645198",
   "metadata": {},
   "source": [
    "Bien que peu utilisé dans ce cours, il est aussi très simple de calculer les valeurs propres et vecteurs propres d'une matrice. Par exemple,\n",
    "\n",
    "$$\n",
    "\\mathcal{H} = \\begin{bmatrix}-1&4&0\\\\2&1&2\\\\-1&0&6i\\end{bmatrix}\n",
    "$$"
   ]
  },
  {
   "cell_type": "code",
   "execution_count": 4,
   "id": "1ab40984-cf2e-4ccb-b3aa-16807671f033",
   "metadata": {},
   "outputs": [
    {
     "name": "stdout",
     "output_type": "stream",
     "text": [
      "Eigenvalues\n",
      " [-3.09820733+0.1727297j   2.92109694-0.18109334j  0.17711039+6.00836365j]\n",
      "Eigenvectors\n",
      " [[ 0.87706534+0.j          0.70988381+0.j         -0.16847852-0.00795603j]\n",
      " [-0.46006623+0.03787381j  0.69588081-0.03213881j -0.03762878-0.25541133j]\n",
      " [ 0.06238709-0.11734091j -0.04436663-0.09388058j  0.95126275+0.j        ]]\n"
     ]
    }
   ],
   "source": [
    "H = np.array([[-1, 4, 0], [2, 1, 2], [-1, 0, 6j]])\n",
    "\n",
    "w, v = np.linalg.eig(H)\n",
    "print(\"Eigenvalues\\n\", w)\n",
    "print(\"Eigenvectors\\n\", v)"
   ]
  },
  {
   "cell_type": "markdown",
   "id": "b8ba0936-13c0-4fcf-8930-7f6a64286bdd",
   "metadata": {},
   "source": [
    "## Sympy - Calcul symbolique\n",
    "\n",
    "Sympy nous permet de créer des objets *symboliques* pour ensuite les utiliser dans des équations. Par exemple, ici nous créons le *symbol* $x$ à partir de la *string* 'x' que nous plaçons dans la *variable* `x`"
   ]
  },
  {
   "cell_type": "code",
   "execution_count": 5,
   "id": "50e31fe1-f12e-4157-8509-583d2db912ef",
   "metadata": {},
   "outputs": [
    {
     "name": "stdout",
     "output_type": "stream",
     "text": [
      "x\n"
     ]
    }
   ],
   "source": [
    "x = sp.symbols(\"x\")\n",
    "print(x)"
   ]
  },
  {
   "cell_type": "markdown",
   "id": "21bab8f0-3094-4e6f-9238-6453e9d17392",
   "metadata": {},
   "source": [
    "Nous définissons l'expression $f(x) = x^2 + 47$ que l'on place dans la *variable* `f`."
   ]
  },
  {
   "cell_type": "code",
   "execution_count": 6,
   "id": "6ed493f3-1fa7-48ab-b109-60315952e7e0",
   "metadata": {},
   "outputs": [
    {
     "name": "stdout",
     "output_type": "stream",
     "text": [
      "x**2 + 47\n"
     ]
    }
   ],
   "source": [
    "f = x**2 + 47\n",
    "print(f)"
   ]
  },
  {
   "cell_type": "markdown",
   "id": "1a363e7d-ff31-498e-bc86-e2fee2174568",
   "metadata": {},
   "source": [
    "Nous résolvons maintenant $f(x) = x^2+47 = 51$"
   ]
  },
  {
   "cell_type": "code",
   "execution_count": 7,
   "id": "dc3f4851-ec0e-480c-8190-36b7a4a859e4",
   "metadata": {},
   "outputs": [
    {
     "data": {
      "text/plain": [
       "[-2, 2]"
      ]
     },
     "execution_count": 7,
     "metadata": {},
     "output_type": "execute_result"
    }
   ],
   "source": [
    "sp.solve(f - 51)"
   ]
  },
  {
   "cell_type": "markdown",
   "id": "a67b2771-8081-49e0-a40f-a8be5ce7beff",
   "metadata": {},
   "source": [
    "Il est aussi facile de tracer les équations symboliques en utilisant `sp.plot()`. Nous ne pouvons pas utiliser *matplotlib* pour tracer des équations symboliques."
   ]
  },
  {
   "cell_type": "code",
   "execution_count": 8,
   "id": "a45ccd2e-0246-49ad-bc39-d8b6d128a8c0",
   "metadata": {},
   "outputs": [
    {
     "data": {
      "image/png": "[encoded data removed]",
      "text/plain": [
       "<Figure size 432x288 with 1 Axes>"
      ]
     },
     "metadata": {
      "needs_background": "light"
     },
     "output_type": "display_data"
    },
    {
     "data": {
      "text/plain": [
       "<sympy.plotting.plot.Plot at 0x7f6e1975fb20>"
      ]
     },
     "execution_count": 8,
     "metadata": {},
     "output_type": "execute_result"
    }
   ],
   "source": [
    "sp.plot(f)"
   ]
  },
  {
   "cell_type": "markdown",
   "id": "82c2f0d2-b39d-457d-937b-9c90cd8f90e3",
   "metadata": {},
   "source": [
    "## Sympy - résolution itérative\n",
    "\n",
    "Comment résoudre itérativement une équation paramétrique avec sympy? Une équation paramétrique est une équation avec des inconnus (que l'on cherche à déterminer) et des paramètres (que l'on *stipule*/*décide*). Une notation courante est la forme $f_\\theta(x)$ où $f$ est une *fonction* de $x$ *paramétrisée* par $\\theta$. Bien sûr, rien n'empêche $x$ et $\\theta$ d'être des vecteurs (ou matrices). Par exemple, $\\textbf{x} = (x, y, z)$ serait une fonction dont le domaine est un espace 3D et ainsi de suite.\n",
    "\n",
    "Nous pouvons donc *résoudre* itérativement $f_\\theta(x)=0$ pour différentes valeurs de $\\theta$ afin de tracer un graphique $x = g(\\theta)$\n",
    "\n",
    "Par exemple, soit un montage optique à une lentille mince. Le système est caractérisé par l'équation\n",
    "\n",
    "$$\n",
    "\\frac{1}{s} + \\frac{1}{s'} = \\frac{1}{f}\n",
    "$$\n",
    "\n",
    "où\n",
    "\n",
    "- $s$ est la position de l'objet à gauche de la lentille\n",
    "- $s'$ est la position de l'image à droide de la lentille\n",
    "- $f$ est la focale de la lentille ($f>0$ => convergente)\n",
    "\n",
    "À quelle distance $s'$ sera formé l'image d'un objet situé à 1 m à gauche d'une lentille de focale $f \\in [0, 3]$m? Bien sûr, nous pouvons ici facilement isoler\n",
    "\n",
    "$$\n",
    "s'(f) = \\frac{f}{1-f}\n",
    "$$\n",
    "\n",
    "mais ce n'est pas toujours facile. À la place, utilisons sympy et la fonction paramétrique\n",
    "\n",
    "$$\n",
    "g_f(s') = 1+\\frac{1}{s'}-\\frac{1}{f}\n",
    "$$"
   ]
  },
  {
   "cell_type": "code",
   "execution_count": 9,
   "id": "ddfe2284-74ed-4bdb-a1d4-8f6a3d0778f2",
   "metadata": {},
   "outputs": [
    {
     "data": {
      "text/plain": [
       "<matplotlib.legend.Legend at 0x7f6e14b2ee50>"
      ]
     },
     "execution_count": 9,
     "metadata": {},
     "output_type": "execute_result"
    },
    {
     "data": {
      "image/png": "[encoded data removed]",
      "text/plain": [
       "<Figure size 576x384 with 1 Axes>"
      ]
     },
     "metadata": {
      "needs_background": "light"
     },
     "output_type": "display_data"
    }
   ],
   "source": [
    "# Here I use a lambda function, but this could be a regular function\n",
    "# or an expression defined in the following for loop\n",
    "g = lambda s_image, f: 1 + 1 / s_image - 1 / f\n",
    "\n",
    "# We define the range of values for f we want to solve for\n",
    "frange = np.linspace(0.01, 3, 50)\n",
    "# We create an empty list that will contain the solutions\n",
    "image_distances = []\n",
    "# We create a sympy symbol s\n",
    "s = sp.symbols(\"s\")\n",
    "\n",
    "# We loop over each values of f in frange\n",
    "for f in frange:\n",
    "    equation = g(s, f)  # We create the equation of s from a value of f\n",
    "    s_solution = sp.solve(equation)  # We solve the equation=0\n",
    "    image_distances.append(s_solution)  # We add the solution to the list\n",
    "\n",
    "# We plot the results\n",
    "plt.figure(dpi=96)\n",
    "plt.plot(\n",
    "    frange, image_distances, \".\", label=\"Paremetric equation solution\", zorder=5\n",
    ")  # parametric solution\n",
    "\n",
    "f = np.linspace(0.01, 3, 1000)\n",
    "s = f / (1 - f)\n",
    "plt.plot(f, s, label=\"Theoretical solution\")  # theoretical solution\n",
    "plt.xlabel(\"$f$\")\n",
    "plt.ylabel(\"$s'$\")\n",
    "plt.ylim([-10, 10])\n",
    "plt.legend()"
   ]
  },
  {
   "cell_type": "markdown",
   "id": "0efad9e8-b0aa-465f-b734-21e975d764b8",
   "metadata": {},
   "source": [
    "## Tying it together\n",
    "\n",
    "Maintenant, *situation tout à fait **hypothétique** qui ne se produit **jamais*** (lire sarcasme svp https://en.wikipedia.org/wiki/Ray_transfer_matrix_analysis); vous avez les matrices suivantes\n",
    "\n",
    "$$\n",
    "M_t(d) = \\begin{bmatrix}1&d\\\\0&1\\end{bmatrix}\n",
    "$$\n",
    "\n",
    "$$\n",
    "M_l(f) = \\begin{bmatrix}1&0\\\\-\\frac{1}{f}&1\\end{bmatrix}\n",
    "$$\n",
    "\n",
    "et vous avez une série de multiplication (lire *système optique* \\*\\*cough cough\\*\\*) avec les matrices suivantes\n",
    "\n",
    "$$\n",
    "M = \\begin{bmatrix}A&B\\\\C&D\\end{bmatrix} = M_t(d=35mm)*M_l(f=25mm)\\cdot M_t(d=x)\\cdot M_l(f=50mm)\\cdot M_t(d=s)\n",
    "$$\n",
    "\n",
    "et vous voulez déterminer la relation entre $x$ et $s$ faisant en sorte que B=0."
   ]
  },
  {
   "cell_type": "code",
   "execution_count": 10,
   "id": "4efd9f62-7c41-44b4-9c7f-f283ce685f07",
   "metadata": {},
   "outputs": [
    {
     "data": {
      "text/plain": [
       "Text(0, 0.5, 'x [mm]')"
      ]
     },
     "execution_count": 10,
     "metadata": {},
     "output_type": "execute_result"
    },
    {
     "data": {
      "image/png": "[encoded data removed]",
      "text/plain": [
       "<Figure size 576x384 with 1 Axes>"
      ]
     },
     "metadata": {
      "needs_background": "light"
     },
     "output_type": "display_data"
    }
   ],
   "source": [
    "# I define a function for the translation matrix\n",
    "def Mt(d):\n",
    "    \"\"\"\n",
    "    Translation ray transfer matrix\n",
    "    \"\"\"\n",
    "    M = np.array([[1, d], [0, 1]])\n",
    "    return M\n",
    "\n",
    "\n",
    "# I define a function for the thin lens matrix\n",
    "def Ml(f):\n",
    "    \"\"\"\n",
    "    Thin lens ray transfer matrix\n",
    "    \"\"\"\n",
    "    M = np.array([[1, 0], [-1 / f, 1]])\n",
    "    return M\n",
    "\n",
    "\n",
    "# I create a function for the total system matrix M\n",
    "def M_system(x, s):\n",
    "    \"\"\"\n",
    "    Computes the total system transfer matrix\n",
    "    \"\"\"\n",
    "    M = Mt(d=35) @ Ml(f=25) @ Mt(d=x) @ Ml(f=50) @ Mt(d=s)\n",
    "    return M\n",
    "\n",
    "\n",
    "# I create the problem definition\n",
    "x = sp.symbols(\"x\")  # symbolize x\n",
    "srange = np.linspace(20, 100)  # range of values for s\n",
    "x_solutions = []  # empty array for solutions\n",
    "\n",
    "# Iteratively solve the problem\n",
    "for s in srange:\n",
    "    Mtot = M_system(x, s)  # compute the system's matrix\n",
    "    B = Mtot[0, 1]  # get B(x) from system's matrix\n",
    "    x_sol = sp.solve(B)  # Solve B(x) = 0 Carefull, there may be many solutions...\n",
    "    x_solutions.append(sp.solve(B))  # add solution to list\n",
    "\n",
    "# plot results\n",
    "plt.figure(dpi=96)\n",
    "plt.plot(srange, x_solutions, \".-\")\n",
    "plt.xlabel(\"s [mm]\")\n",
    "plt.ylabel(\"x [mm]\")"
   ]
  }
 ],
 "metadata": {
  "kernelspec": {
   "display_name": "PHS2223",
   "language": "python",
   "name": "phs2223"
  },
  "language_info": {
   "codemirror_mode": {
    "name": "ipython",
    "version": 3
   },
   "file_extension": ".py",
   "mimetype": "text/x-python",
   "name": "python",
   "nbconvert_exporter": "python",
   "pygments_lexer": "ipython3",
   "version": "3.8.20"
  }
 },
 "nbformat": 4,
 "nbformat_minor": 5
}
